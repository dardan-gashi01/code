{
  "nbformat": 4,
  "nbformat_minor": 0,
  "metadata": {
    "colab": {
      "name": "SIFTSVM.ipynb",
      "provenance": [],
      "collapsed_sections": [],
      "authorship_tag": "ABX9TyOroQReCFotk7IJn6M7BOn2",
      "include_colab_link": true
    },
    "kernelspec": {
      "name": "python3",
      "display_name": "Python 3"
    },
    "language_info": {
      "name": "python"
    }
  },
  "cells": [
    {
      "cell_type": "markdown",
      "metadata": {
        "id": "view-in-github",
        "colab_type": "text"
      },
      "source": [
        "<a href=\"https://colab.research.google.com/github/dardan-gashi01/code/blob/main/SIFTSVM.ipynb\" target=\"_parent\"><img src=\"https://colab.research.google.com/assets/colab-badge.svg\" alt=\"Open In Colab\"/></a>"
      ]
    },
    {
      "cell_type": "code",
      "execution_count": null,
      "metadata": {
        "colab": {
          "base_uri": "https://localhost:8080/"
        },
        "id": "uguJnW9DzzT-",
        "outputId": "aeb31599-e013-4805-a7d1-d124d532882e"
      },
      "outputs": [
        {
          "output_type": "stream",
          "name": "stdout",
          "text": [
            "Mounted at /content/drive\n"
          ]
        }
      ],
      "source": [
        "from google.colab import drive\n",
        "drive.mount('/content/drive')"
      ]
    },
    {
      "cell_type": "code",
      "source": [
        "!pip install opencv-python==4.5.5.64"
      ],
      "metadata": {
        "colab": {
          "base_uri": "https://localhost:8080/"
        },
        "id": "a4aBSm-B1-8I",
        "outputId": "fbf478f3-49a7-4e2c-9d06-56672d2dce68"
      },
      "execution_count": null,
      "outputs": [
        {
          "output_type": "stream",
          "name": "stdout",
          "text": [
            "Collecting opencv-python==4.5.5.64\n",
            "  Downloading opencv_python-4.5.5.64-cp36-abi3-manylinux_2_17_x86_64.manylinux2014_x86_64.whl (60.5 MB)\n",
            "\u001b[K     |████████████████████████████████| 60.5 MB 1.3 MB/s \n",
            "\u001b[?25hRequirement already satisfied: numpy>=1.14.5 in /usr/local/lib/python3.7/dist-packages (from opencv-python==4.5.5.64) (1.21.6)\n",
            "Installing collected packages: opencv-python\n",
            "  Attempting uninstall: opencv-python\n",
            "    Found existing installation: opencv-python 4.1.2.30\n",
            "    Uninstalling opencv-python-4.1.2.30:\n",
            "      Successfully uninstalled opencv-python-4.1.2.30\n",
            "\u001b[31mERROR: pip's dependency resolver does not currently take into account all the packages that are installed. This behaviour is the source of the following dependency conflicts.\n",
            "albumentations 0.1.12 requires imgaug<0.2.7,>=0.2.5, but you have imgaug 0.2.9 which is incompatible.\u001b[0m\n",
            "Successfully installed opencv-python-4.5.5.64\n"
          ]
        }
      ]
    },
    {
      "cell_type": "code",
      "source": [
        "import os\n",
        "\n",
        "# TODO: Fill in the Google Drive path where you uploaded the lab materials\n",
        "# Example: GOOGLE_DRIVE_PATH_AFTER_MYDRIVE = 'Colab Notebooks/Lab materials 01-20210104'\n",
        "\n",
        "GOOGLE_DRIVE_PATH_AFTER_MYDRIVE = 'Colab Notebooks/CW_Folder_UG/CW_Folder_UG' \n",
        "GOOGLE_DRIVE_PATH = os.path.join('drive', 'My Drive', GOOGLE_DRIVE_PATH_AFTER_MYDRIVE)\n",
        "print(os.listdir(GOOGLE_DRIVE_PATH))"
      ],
      "metadata": {
        "colab": {
          "base_uri": "https://localhost:8080/"
        },
        "id": "uoaD1rqEz5jY",
        "outputId": "b507664d-c11b-4304-f2e3-3207952e0963"
      },
      "execution_count": null,
      "outputs": [
        {
          "output_type": "stream",
          "name": "stdout",
          "text": [
            "['test_functions.ipynb', '.DS_Store', 'CW_Dataset.zip', 'Code', 'Models', 'Personal_Dataset']\n"
          ]
        }
      ]
    },
    {
      "cell_type": "code",
      "source": [
        "zip_path = os.path.join(GOOGLE_DRIVE_PATH, 'CW_Dataset.zip')\n",
        "\n",
        "!cp '{zip_path}' .\n",
        "\n",
        "!yes|unzip -q CW_Dataset.zip\n",
        "\n",
        "!rm CW_Dataset.zip"
      ],
      "metadata": {
        "id": "q5ayoRr-z9Qu"
      },
      "execution_count": null,
      "outputs": []
    },
    {
      "cell_type": "code",
      "source": [
        ""
      ],
      "metadata": {
        "id": "1iIyYPIP0CsT"
      },
      "execution_count": null,
      "outputs": []
    },
    {
      "cell_type": "code",
      "source": [
        "dataFolder2('train', 'test', 'labels/list_label_train.txt', 'labels/list_label_test.txt')"
      ],
      "metadata": {
        "id": "5vTgpZ1q0EtH"
      },
      "execution_count": null,
      "outputs": []
    },
    {
      "cell_type": "code",
      "source": [
        "from skimage import io\n",
        "def import_selected_data(path, label_list):\n",
        "    \"\"\"Load images and labels from selected directories\"\"\"\n",
        "    images = []\n",
        "    labels = []\n",
        "\n",
        "    if label_list is None:\n",
        "        folder_names = [folder for folder in sorted(os.listdir(path)) if not folder.startswith('.')]\n",
        "    else:\n",
        "        folder_names = [folder for folder in sorted(os.listdir(path)) if folder in label_list]\n",
        "\n",
        "    for folder in folder_names:\n",
        "        file_names = [file for file in sorted(os.listdir(os.path.join(path, folder))) if file.endswith('.jpg')]\n",
        "        for file in file_names:\n",
        "            images.append(io.imread(os.path.join(path, folder, file)))\n",
        "            labels.append(folder)\n",
        "\n",
        "    return images, labels"
      ],
      "metadata": {
        "id": "p3wE_mIa0MQj"
      },
      "execution_count": null,
      "outputs": []
    },
    {
      "cell_type": "code",
      "source": [
        "X, y = import_selected_data('DataFolder/train', label_list=['1', '2', '3','4','5','6','7'])"
      ],
      "metadata": {
        "id": "ToUagxMi0ZZP"
      },
      "execution_count": 86,
      "outputs": []
    },
    {
      "cell_type": "code",
      "source": [
        "from sklearn.model_selection import train_test_split\n",
        "from skimage import img_as_ubyte, io, color\n",
        "from sklearn.cluster import MiniBatchKMeans\n",
        "from sklearn import svm, metrics\n",
        "import matplotlib.pyplot as plt\n",
        "import numpy as np\n",
        "import cv2"
      ],
      "metadata": {
        "id": "_MULtlGE1cTl"
      },
      "execution_count": null,
      "outputs": []
    },
    {
      "cell_type": "code",
      "source": [
        "X_train, X_test, y_train, y_test = train_test_split(\n",
        "    X, y, test_size=0.2, shuffle=True, stratify=y)"
      ],
      "metadata": {
        "id": "Pt5-qyJr1TcR"
      },
      "execution_count": 87,
      "outputs": []
    },
    {
      "cell_type": "code",
      "source": [
        "sift = cv2.SIFT_create()\n",
        "\n",
        "des_list = []\n",
        "y_train_list = []\n",
        "\n",
        "for i in range(len(X_train)):\n",
        "  img = img_as_ubyte(color.rgb2gray(X_train[i]))\n",
        "  kp, des = sift.detectAndCompute(img, None)\n",
        "\n",
        "  if des is not None:\n",
        "    des_list.append(des)\n",
        "    y_train_list.append(y_train[i])\n",
        "\n",
        "des_array = np.vstack(des_list)"
      ],
      "metadata": {
        "id": "1pfnuC371oOC"
      },
      "execution_count": 88,
      "outputs": []
    },
    {
      "cell_type": "code",
      "source": [
        "k = len(np.unique(y_train)) * 25\n",
        "\n",
        "# Use MiniBatchKMeans for faster computation and lower memory usage\n",
        "batch_size = des_array.shape[0] // 2\n",
        "kmeans = MiniBatchKMeans(n_clusters=k, batch_size=batch_size).fit(des_array)"
      ],
      "metadata": {
        "id": "o3sopeMW31zh"
      },
      "execution_count": null,
      "outputs": []
    },
    {
      "cell_type": "code",
      "source": [
        "hist_list = []\n",
        "idx_list = []\n",
        "\n",
        "for des in des_list:\n",
        "    hist = np.zeros(k)\n",
        "\n",
        "    idx = kmeans.predict(des)\n",
        "    idx_list.append(idx)\n",
        "    for j in idx:\n",
        "        hist[j] = hist[j] + (1 / len(des))\n",
        "    hist_list.append(hist)\n",
        "\n",
        "hist_array = np.vstack(hist_list)"
      ],
      "metadata": {
        "id": "MhKAUV_j388-"
      },
      "execution_count": null,
      "outputs": []
    },
    {
      "cell_type": "code",
      "source": [
        "classifier = svm.SVC(kernel='rbf')\n",
        "\n",
        "# We learn the digits on the first half of the digits\n",
        "classifier.fit(hist_array, y_train_list)"
      ],
      "metadata": {
        "colab": {
          "base_uri": "https://localhost:8080/"
        },
        "id": "lh-foROk4CNT",
        "outputId": "4b9b1bc1-f7d7-4ac7-f564-29570ef12106"
      },
      "execution_count": null,
      "outputs": [
        {
          "output_type": "execute_result",
          "data": {
            "text/plain": [
              "SVC()"
            ]
          },
          "metadata": {},
          "execution_count": 82
        }
      ]
    },
    {
      "cell_type": "code",
      "source": [
        "hist_list = []\n",
        "\n",
        "for i in range(len(X_test)):\n",
        "    img = img_as_ubyte(color.rgb2gray(X_test[i]))\n",
        "    kp, des = sift.detectAndCompute(img, None)\n",
        "\n",
        "    if des is not None:\n",
        "        hist = np.zeros(k)\n",
        "\n",
        "        idx = kmeans.predict(des)\n",
        "\n",
        "        for j in idx:\n",
        "            hist[j] = hist[j] + (1 / len(des))\n",
        "\n",
        "        # hist = scale.transform(hist.reshape(1, -1))\n",
        "        hist_list.append(hist)\n",
        "\n",
        "    else:\n",
        "        hist_list.append(None)\n",
        "\n",
        "# Remove potential cases of images with no descriptors\n",
        "idx_not_empty = [i for i, x in enumerate(hist_list) if x is not None]\n",
        "hist_list = [hist_list[i] for i in idx_not_empty]\n",
        "y_test = [y_test[i] for i in idx_not_empty]\n",
        "hist_array = np.vstack(hist_list)"
      ],
      "metadata": {
        "id": "EsLm9UPL5FGV"
      },
      "execution_count": null,
      "outputs": []
    },
    {
      "cell_type": "code",
      "source": [
        "y_pred = classifier.predict(hist_array).tolist()"
      ],
      "metadata": {
        "id": "r27B4nG85K9a"
      },
      "execution_count": null,
      "outputs": []
    },
    {
      "cell_type": "code",
      "source": [
        "print(f\"\"\"Classification report for classifier {classifier}:\n",
        "      {metrics.classification_report(y_test, y_pred)}\\n\"\"\")"
      ],
      "metadata": {
        "colab": {
          "base_uri": "https://localhost:8080/"
        },
        "id": "VEorHmHQ5Miq",
        "outputId": "7e44e21b-5fcd-4470-abca-f3edfb8d51be"
      },
      "execution_count": null,
      "outputs": [
        {
          "output_type": "stream",
          "name": "stdout",
          "text": [
            "Classification report for classifier SVC():\n",
            "                    precision    recall  f1-score   support\n",
            "\n",
            "           1       0.45      0.08      0.14       258\n",
            "           2       0.00      0.00      0.00        56\n",
            "           3       0.00      0.00      0.00       143\n",
            "           4       0.45      0.87      0.59       955\n",
            "           5       0.39      0.07      0.12       397\n",
            "           6       0.00      0.00      0.00       141\n",
            "           7       0.40      0.37      0.39       505\n",
            "\n",
            "    accuracy                           0.44      2455\n",
            "   macro avg       0.24      0.20      0.18      2455\n",
            "weighted avg       0.37      0.44      0.34      2455\n",
            "\n",
            "\n"
          ]
        },
        {
          "output_type": "stream",
          "name": "stderr",
          "text": [
            "/usr/local/lib/python3.7/dist-packages/sklearn/metrics/_classification.py:1318: UndefinedMetricWarning: Precision and F-score are ill-defined and being set to 0.0 in labels with no predicted samples. Use `zero_division` parameter to control this behavior.\n",
            "  _warn_prf(average, modifier, msg_start, len(result))\n",
            "/usr/local/lib/python3.7/dist-packages/sklearn/metrics/_classification.py:1318: UndefinedMetricWarning: Precision and F-score are ill-defined and being set to 0.0 in labels with no predicted samples. Use `zero_division` parameter to control this behavior.\n",
            "  _warn_prf(average, modifier, msg_start, len(result))\n",
            "/usr/local/lib/python3.7/dist-packages/sklearn/metrics/_classification.py:1318: UndefinedMetricWarning: Precision and F-score are ill-defined and being set to 0.0 in labels with no predicted samples. Use `zero_division` parameter to control this behavior.\n",
            "  _warn_prf(average, modifier, msg_start, len(result))\n"
          ]
        }
      ]
    }
  ]
}